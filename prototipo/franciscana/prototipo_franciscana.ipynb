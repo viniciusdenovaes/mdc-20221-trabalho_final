{
  "nbformat": 4,
  "nbformat_minor": 0,
  "metadata": {
    "colab": {
      "name": "prototipo_franciscana.ipynb",
      "provenance": [],
      "collapsed_sections": []
    },
    "kernelspec": {
      "name": "python3",
      "display_name": "Python 3"
    },
    "gpuClass": "standard"
  },
  "cells": [
    {
      "cell_type": "markdown",
      "source": [
        "Instruções iniciais\n",
        "\n",
        "Abra os links dos dados:\n",
        "\n",
        "https://drive.google.com/drive/folders/19gc0iSvxhdvO7lqiq_gSd1ILj4qEhqAd?usp=sharing\n",
        "\n",
        "Clique em \"Adicionar atalho ao Drive\""
      ],
      "metadata": {
        "id": "GO4nbf0hzRmI"
      }
    },
    {
      "cell_type": "markdown",
      "source": [
        "Montar o drive"
      ],
      "metadata": {
        "id": "AXDskWITUeZo"
      }
    },
    {
      "cell_type": "code",
      "source": [
        "from google.colab import drive\n",
        "drive.mount('/content/drive')"
      ],
      "metadata": {
        "colab": {
          "base_uri": "https://localhost:8080/"
        },
        "id": "iVtUd5s3J7ej",
        "outputId": "b7f33309-3157-4997-f943-dcd8b8dfb872"
      },
      "execution_count": 1,
      "outputs": [
        {
          "output_type": "stream",
          "name": "stdout",
          "text": [
            "Mounted at /content/drive\n"
          ]
        }
      ]
    },
    {
      "cell_type": "markdown",
      "source": [
        "Visualizar as pastas com os arquivos de Predição de Atributos Visuais"
      ],
      "metadata": {
        "id": "phyuwvVYUkGx"
      }
    },
    {
      "cell_type": "code",
      "source": [
        "!ls \"/content/drive/MyDrive/Predição de Atributos Visuais/\"\n"
      ],
      "metadata": {
        "colab": {
          "base_uri": "https://localhost:8080/"
        },
        "id": "un7GfD1k3-_y",
        "outputId": "b39c1d7e-ee4c-4bdd-d4ec-7f19f97b051c"
      },
      "execution_count": 2,
      "outputs": [
        {
          "output_type": "stream",
          "name": "stdout",
          "text": [
            "annotations  holdout_split  imageAlignedLD  imageLD\n"
          ]
        }
      ]
    },
    {
      "cell_type": "code",
      "source": [
        "!cat \"/content/drive/MyDrive/Predição de Atributos Visuais/annotations/README.txt\" "
      ],
      "metadata": {
        "colab": {
          "base_uri": "https://localhost:8080/"
        },
        "id": "39s-yFBhy-U8",
        "outputId": "adc950c7-b4a1-43fd-e64e-a92dc240b604"
      },
      "execution_count": 3,
      "outputs": [
        {
          "output_type": "stream",
          "name": "stdout",
          "text": [
            "\n",
            "\"attributes.txt\" specifies the Transient Attributes and their order for the \"annotations.tsv file\"\n",
            "\n",
            "\"annotations.tsv\" contains the aggregated scores and confidence for each attribute/image pair in the following format:\n",
            "\n",
            "$imageName\t  $attribute1_score,$attribute1_confidence\t... \t $attribute40_score,$attribute40_confidence\n",
            "\n",
            "Each line corresponds to one image and the annotations for each attribute are tab separated. Each annotation is an ordered pair with the score and confidence for that attribute/image pair.\n",
            "\n",
            "The scores are in the range of 0 to 1, with <0.2 being considered a strong\n",
            "negative and >0.8 being considered a strong positive.\n",
            "\n",
            "The confidence are the number of confident MT votes for that attribute/image. We consider at least 5 confident votes to be a reliable annotation.\n",
            "\n",
            "Less than 1 percent of the attribute/image pairs have less than 5 confident votes.\n"
          ]
        }
      ]
    },
    {
      "cell_type": "code",
      "source": [
        "!cat \"/content/drive/MyDrive/Predição de Atributos Visuais/annotations/annotations.tsv\" | wc -l"
      ],
      "metadata": {
        "colab": {
          "base_uri": "https://localhost:8080/"
        },
        "id": "jFg22bEByqJT",
        "outputId": "460c5011-1c16-4333-a622-460388f32e23"
      },
      "execution_count": 4,
      "outputs": [
        {
          "output_type": "stream",
          "name": "stdout",
          "text": [
            "8571\n"
          ]
        }
      ]
    },
    {
      "cell_type": "markdown",
      "source": [
        "Descrição dos atributos que serão utilizados no projeto"
      ],
      "metadata": {
        "id": "RrXPPM4SVuLp"
      }
    },
    {
      "cell_type": "code",
      "source": [
        "!cat \"/content/drive/MyDrive/Predição de Atributos Visuais/annotations/attributes.txt\""
      ],
      "metadata": {
        "colab": {
          "base_uri": "https://localhost:8080/"
        },
        "id": "dv2H4AvwTtWe",
        "outputId": "dee400ce-8479-4ff7-ec33-029619687e91"
      },
      "execution_count": 5,
      "outputs": [
        {
          "output_type": "stream",
          "name": "stdout",
          "text": [
            "dirty\n",
            "daylight\n",
            "night\n",
            "sunrisesunset\n",
            "dawndusk\n",
            "sunny\n",
            "clouds\n",
            "fog\n",
            "storm\n",
            "snow\n",
            "warm\n",
            "cold\n",
            "busy\n",
            "beautiful\n",
            "flowers\n",
            "spring\n",
            "summer\n",
            "autumn\n",
            "winter\n",
            "glowing\n",
            "colorful\n",
            "dull\n",
            "rugged\n",
            "midday\n",
            "dark\n",
            "bright\n",
            "dry\n",
            "moist\n",
            "windy\n",
            "rain\n",
            "ice\n",
            "cluttered\n",
            "soothing\n",
            "stressful\n",
            "exciting\n",
            "sentimental\n",
            "mysterious\n",
            "boring\n",
            "gloomy\n",
            "lush\n"
          ]
        }
      ]
    },
    {
      "cell_type": "code",
      "source": [
        "!ls \"/content/drive/MyDrive/Predição de Atributos Visuais/holdout_split/\""
      ],
      "metadata": {
        "colab": {
          "base_uri": "https://localhost:8080/"
        },
        "id": "o8vaw6QH5FLr",
        "outputId": "bba5a3d3-82a0-4792-8263-423e1fa13a50"
      },
      "execution_count": 6,
      "outputs": [
        {
          "output_type": "stream",
          "name": "stdout",
          "text": [
            "test.txt  training.txt\n"
          ]
        }
      ]
    },
    {
      "cell_type": "code",
      "source": [
        "!ls \"/content/drive/MyDrive/Predição de Atributos Visuais/imageLD/\""
      ],
      "metadata": {
        "colab": {
          "base_uri": "https://localhost:8080/"
        },
        "id": "yefjrP-qJF_5",
        "outputId": "3339892d-8876-4573-aff3-d712065bd492"
      },
      "execution_count": 7,
      "outputs": [
        {
          "output_type": "stream",
          "name": "stdout",
          "text": [
            "00000064  00001308  00009483  00016761\t00017709  00018959  00019919  90000005\n",
            "00000090  00005381  00010091  00016845\t00018071  00018962  00019920  90000006\n",
            "00000162  00007202  00010098  00017609\t00018086  00018963  00021901  90000007\n",
            "00000260  00007371  00010180  00017613\t00018118  00018964  00022785  90000008\n",
            "00000270  00008205  00010302  00017627\t00018347  00018965  00023240  90000009\n",
            "00000325  00008346  00010430  00017632\t00018478  00018997  00023943  90000010\n",
            "00000384  00008383  00010606  00017640\t00018505  00019000  00023944  90000011\n",
            "00000398  00008402  00010780  00017658\t00018515  00019246  00023945  90000012\n",
            "00000441  00008616  00010801  00017659\t00018680  00019388  00023946  90000013\n",
            "00000536  00008728  00010917  00017660\t00018726  00019394  00023947  90000014\n",
            "00000573  00008915  00011616  00017663\t00018759  00019435  90000002\n",
            "00001048  00009053  00014842  00017664\t00018769  00019827  90000003\n",
            "00001065  00009103  00015822  00017672\t00018897  00019906  90000004\n"
          ]
        }
      ]
    },
    {
      "cell_type": "code",
      "source": [
        "!ls \"/content/drive/MyDrive/Predição de Atributos Visuais/imageAlignedLD/\""
      ],
      "metadata": {
        "colab": {
          "base_uri": "https://localhost:8080/"
        },
        "id": "AqojqvNAyS2k",
        "outputId": "ff2d6c98-192c-4358-f58f-ddfe5aac1fc7"
      },
      "execution_count": 8,
      "outputs": [
        {
          "output_type": "stream",
          "name": "stdout",
          "text": [
            "00000064  00001308  00009483  00016761\t00017709  00018959  00019919  90000005\n",
            "00000090  00005381  00010091  00016845\t00018071  00018962  00019920  90000006\n",
            "00000162  00007202  00010098  00017609\t00018086  00018963  00021901  90000007\n",
            "00000260  00007371  00010180  00017613\t00018118  00018964  00022785  90000008\n",
            "00000270  00008205  00010302  00017627\t00018347  00018965  00023240  90000009\n",
            "00000325  00008346  00010430  00017632\t00018478  00018997  00023943  90000010\n",
            "00000384  00008383  00010606  00017640\t00018505  00019000  00023944  90000011\n",
            "00000398  00008402  00010780  00017658\t00018515  00019246  00023945  90000012\n",
            "00000441  00008616  00010801  00017659\t00018680  00019388  00023946  90000013\n",
            "00000536  00008728  00010917  00017660\t00018726  00019394  00023947  90000014\n",
            "00000573  00008915  00011616  00017663\t00018759  00019435  90000002  test\n",
            "00001048  00009053  00014842  00017664\t00018769  00019827  90000003\n",
            "00001065  00009103  00015822  00017672\t00018897  00019906  90000004\n"
          ]
        }
      ]
    },
    {
      "cell_type": "markdown",
      "source": [
        "Quantidade de imagens do arquivo test.txt"
      ],
      "metadata": {
        "id": "b7RnXSo9VZCO"
      }
    },
    {
      "cell_type": "code",
      "source": [
        "!cat \"/content/drive/MyDrive/Predição de Atributos Visuais/holdout_split/test.txt\" | wc -l"
      ],
      "metadata": {
        "colab": {
          "base_uri": "https://localhost:8080/"
        },
        "id": "6i3NNQh85Mpq",
        "outputId": "13185fd4-996b-4bdf-bc40-ebad8e9ff1d1"
      },
      "execution_count": 9,
      "outputs": [
        {
          "output_type": "stream",
          "name": "stdout",
          "text": [
            "1667\n"
          ]
        }
      ]
    },
    {
      "cell_type": "markdown",
      "source": [
        "Listar as imagens do arquivo training.txt"
      ],
      "metadata": {
        "id": "bXFGy4gHVi9o"
      }
    },
    {
      "cell_type": "code",
      "source": [
        "!cat \"/content/drive/MyDrive/Predição de Atributos Visuais/holdout_split/training.txt\" | wc -l"
      ],
      "metadata": {
        "colab": {
          "base_uri": "https://localhost:8080/"
        },
        "id": "NdVt-X1yXTAL",
        "outputId": "dc57b7db-c94c-405b-b2a7-73ed1c034068"
      },
      "execution_count": 10,
      "outputs": [
        {
          "output_type": "stream",
          "name": "stdout",
          "text": [
            "6904\n"
          ]
        }
      ]
    },
    {
      "cell_type": "markdown",
      "source": [
        "Importar a lista test.txt \n",
        "para a pasta /content/drive/MyDrive/Projeto_Final/test\n",
        "\n",
        "Importar a lista training.txt \n",
        "para a pasta /content/drive/MyDrive/Projeto_Final/training\n",
        "\n",
        "Obs.: Demorou 30 min para rodar 😭\n"
      ],
      "metadata": {
        "id": "WSvkuX6EWt6S"
      }
    },
    {
      "cell_type": "code",
      "source": [
        "from pathlib import Path\n",
        "\n",
        "# diretorios de origem e destino dos arquivos\n",
        "DIR_ORIGEM  = '/content/drive/MyDrive/Predição de Atributos Visuais/imageLD/'\n",
        "DIR_DESTINO = '/content/drive/MyDrive/Projeto_Final/'\n",
        "\n",
        "# le o arquivo 'test.txt'\n",
        "linhas = Path('/content/drive/MyDrive/Predição de Atributos Visuais/holdout_split/test.txt').read_text().split()\n",
        "for linha in linhas:\n",
        "    # abre o arquivo de origem\n",
        "    arq_origem = Path.cwd().joinpath(DIR_ORIGEM, linha)\n",
        "    \n",
        "    # diretorio + arquivo de destino (dir_destino/test/arquivo)\n",
        "    arq_destino = Path.cwd().joinpath(DIR_DESTINO, 'test', linha)\n",
        "    \n",
        "    # cria os diretorios se eles nao existirem\n",
        "    arq_destino.parent.mkdir(parents=True, exist_ok=True)\n",
        "\n",
        "    # copia a origem para o destino\n",
        "    arq_destino.write_bytes(arq_origem.read_bytes())\n",
        "\n",
        "\n",
        "# le o arquivo 'training.txt'\n",
        "linhas = Path('/content/drive/MyDrive/Predição de Atributos Visuais/holdout_split/training.txt').read_text().split()\n",
        "for linha in linhas:\n",
        "    # abre o arquivo de origem\n",
        "    arq_origem = Path.cwd().joinpath(DIR_ORIGEM, linha)\n",
        "    \n",
        "    # diretorio + arquivo de destino (dir_destino/training/arquivo)\n",
        "    arq_destino = Path.cwd().joinpath(DIR_DESTINO, 'training', linha)\n",
        "    \n",
        "    # cria os diretorios se eles nao existirem\n",
        "    arq_destino.parent.mkdir(parents=True, exist_ok=True)\n",
        "\n",
        "    # copia a origem para o destino\n",
        "    arq_destino.write_bytes(arq_origem.read_bytes())\n"
      ],
      "metadata": {
        "id": "-nnWDInG27JE"
      },
      "execution_count": 19,
      "outputs": []
    },
    {
      "cell_type": "code",
      "source": [
        "!ls '/content/drive/MyDrive/Projeto_Final/test/'"
      ],
      "metadata": {
        "colab": {
          "base_uri": "https://localhost:8080/"
        },
        "id": "jiBRmQ7XOa_7",
        "outputId": "c256ab7f-9b3c-44eb-97a8-de301ea30241"
      },
      "execution_count": 39,
      "outputs": [
        {
          "output_type": "stream",
          "name": "stdout",
          "text": [
            "00000090  00008915  00017664  00018478\t00019435  90000003  90000010\n",
            "00000260  00017659  00017672  00019000\t00019919  90000006  90000013\n",
            "00000325  00017660  00018071  00019394\t00019920  90000008\n"
          ]
        }
      ]
    },
    {
      "cell_type": "code",
      "source": [
        "!ls '/content/drive/MyDrive/Projeto_Final/training/'"
      ],
      "metadata": {
        "colab": {
          "base_uri": "https://localhost:8080/"
        },
        "id": "q6JcxQwzO-3e",
        "outputId": "3b4b15f6-1a38-4383-e4b5-cea2f68de1d5"
      },
      "execution_count": 40,
      "outputs": [
        {
          "output_type": "stream",
          "name": "stdout",
          "text": [
            "00000064  00005381  00009483  00014842\t00017709  00018959  00022785  90000009\n",
            "00000162  00007202  00010091  00015822\t00018086  00018962  00023240  90000011\n",
            "00000270  00007371  00010098  00016761\t00018118  00018963  00023943  90000012\n",
            "00000384  00008205  00010180  00016845\t00018347  00018964  00023944  90000014\n",
            "00000398  00008346  00010302  00017609\t00018505  00018965  00023945\n",
            "00000441  00008383  00010430  00017613\t00018515  00018997  00023946\n",
            "00000536  00008402  00010606  00017627\t00018680  00019246  00023947\n",
            "00000573  00008616  00010780  00017632\t00018726  00019388  90000002\n",
            "00001048  00008728  00010801  00017640\t00018759  00019827  90000004\n",
            "00001065  00009053  00010917  00017658\t00018769  00019906  90000005\n",
            "00001308  00009103  00011616  00017663\t00018897  00021901  90000007\n"
          ]
        }
      ]
    }
  ]
}