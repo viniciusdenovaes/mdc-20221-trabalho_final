{
 "cells": [
  {
   "cell_type": "code",
   "execution_count": null,
   "metadata": {
    "collapsed": true
   },
   "outputs": [],
   "source": [
    "\n",
    "import pandas as pd\n",
    "def returnAnnotations(file_attributos, file_annotations):\n",
    "  df_attributes = pd.read_csv(file_attributos, header = None)\n",
    "  list_attributes = list()\n",
    "  list_attributes.append(df_attributes[0].values)\n",
    "  handle = open(file_annotations)\n",
    "  scores = dict()\n",
    "  confidence = dict()\n",
    "  for line in handle:\n",
    "      words = line.split()\n",
    "      i=0\n",
    "      for word in words:\n",
    "          if i == 0:\n",
    "              scores[word]=list()\n",
    "              confidence[word] = list()\n",
    "              i+=1\n",
    "          else:\n",
    "              values = word.split(',')\n",
    "              scores[words[0]].append(float(values[0]))\n",
    "              confidence[words[0]].append(float(values[1]))\n",
    "              i+=1\n",
    "  scores = pd.DataFrame(scores).T\n",
    "  scores.columns = list_attributes\n",
    "  confidence = pd.DataFrame(confidence).T\n",
    "  confidence.columns = list_attributes\n",
    "  return scores,confidence\n"
   ]
  },
  {
   "cell_type": "code",
   "execution_count": null,
   "outputs": [],
   "source": [
    "file_attributos = '../../data/annotations/attributes.txt'\n",
    "file_annotations = '../../data/annotations/annotations.tsv'\n",
    "file_training = '../../data/training_test_splits/holdout_split/training.txt'\n",
    "file_test = '../../data/training_test_splits/holdout_split/test.txt'\n",
    "def returnTrainingTest(file_attributos, file_annotations, file_training, file_test):\n",
    "  scores,confidence = returnAnnotations(file_attributos, file_annotations)\n",
    "  df_training = pd.read_csv(file_training, header = None)\n",
    "  df_test = pd.read_csv(file_test, header = None)\n",
    "  scores_training = scores[scores.index.isin(df_training[0].values)]\n",
    "  scores_test = scores[scores.index.isin(df_test[0].values)]\n",
    "  confidence_training = confidence[confidence.index.isin(df_training[0].values)]\n",
    "  confidence_test = confidence[confidence.index.isin(df_test[0].values)]\n",
    "  return scores_training, scores_test, confidence_training, confidence_test"
   ],
   "metadata": {
    "collapsed": false,
    "pycharm": {
     "name": "#%%\n"
    }
   }
  },
  {
   "cell_type": "code",
   "execution_count": null,
   "outputs": [],
   "source": [
    "scores_training, scores_test, confidence_training, confidence_test = returnTrainingTest(file_attributos, file_annotations, file_training, file_test)"
   ],
   "metadata": {
    "collapsed": false,
    "pycharm": {
     "name": "#%%\n"
    }
   }
  },
  {
   "cell_type": "code",
   "execution_count": null,
   "outputs": [],
   "source": [
    "scores_training"
   ],
   "metadata": {
    "collapsed": false,
    "pycharm": {
     "name": "#%%\n"
    }
   }
  },
  {
   "cell_type": "code",
   "execution_count": null,
   "outputs": [],
   "source": [
    "scores_training.columns = scores_training.columns.get_level_values(0)"
   ],
   "metadata": {
    "collapsed": false,
    "pycharm": {
     "name": "#%%\n"
    }
   }
  },
  {
   "cell_type": "code",
   "execution_count": null,
   "outputs": [],
   "source": [
    "scores_training = scores_training[col_order]"
   ],
   "metadata": {
    "collapsed": false,
    "pycharm": {
     "name": "#%%\n"
    }
   }
  },
  {
   "cell_type": "code",
   "execution_count": null,
   "outputs": [],
   "source": [
    "scores_training.corr()"
   ],
   "metadata": {
    "collapsed": false,
    "pycharm": {
     "name": "#%%\n"
    }
   }
  },
  {
   "cell_type": "code",
   "execution_count": null,
   "outputs": [],
   "source": [
    "import matplotlib.pyplot as plt\n",
    "import seaborn as sns"
   ],
   "metadata": {
    "collapsed": false,
    "pycharm": {
     "name": "#%%\n"
    }
   }
  },
  {
   "cell_type": "code",
   "execution_count": null,
   "outputs": [],
   "source": [
    "# plotting correlation heatmap\n",
    "dataplot=sns.heatmap(scores_training.corr())\n",
    "\n",
    "# displaying heatmap\n",
    "plt.show()"
   ],
   "metadata": {
    "collapsed": false,
    "pycharm": {
     "name": "#%%\n"
    }
   }
  },
  {
   "cell_type": "code",
   "execution_count": null,
   "outputs": [],
   "source": [
    "plt.figure(figsize=(16, 12))\n",
    "heatmap = sns.heatmap(scores_training.corr(), annot=False, cmap='bwr')\n",
    "heatmap.set_title('Heatmap de Correlacao', fontdict={'fontsize':18}, pad=12);\n",
    "plt.savefig('correlacao.png', dpi=300, bbox_inches='tight')\n"
   ],
   "metadata": {
    "collapsed": false,
    "pycharm": {
     "name": "#%%\n"
    }
   }
  },
  {
   "cell_type": "code",
   "execution_count": null,
   "outputs": [],
   "source": [],
   "metadata": {
    "collapsed": false,
    "pycharm": {
     "name": "#%%\n"
    }
   }
  }
 ],
 "metadata": {
  "kernelspec": {
   "display_name": "Python 3",
   "language": "python",
   "name": "python3"
  },
  "language_info": {
   "codemirror_mode": {
    "name": "ipython",
    "version": 2
   },
   "file_extension": ".py",
   "mimetype": "text/x-python",
   "name": "python",
   "nbconvert_exporter": "python",
   "pygments_lexer": "ipython2",
   "version": "2.7.6"
  }
 },
 "nbformat": 4,
 "nbformat_minor": 0
}