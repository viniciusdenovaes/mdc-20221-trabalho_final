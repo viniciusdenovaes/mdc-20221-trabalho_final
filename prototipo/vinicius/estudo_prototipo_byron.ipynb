{
 "cells": [
  {
   "cell_type": "code",
   "execution_count": null,
   "outputs": [],
   "source": [
    "from typing import Tuple\n",
    "import pandas as pd\n",
    "import numpy as np\n",
    "\n",
    "from pathlib import Path\n",
    "from matplotlib import pyplot, image"
   ],
   "metadata": {
    "collapsed": false,
    "pycharm": {
     "name": "#%%\n"
    }
   }
  },
  {
   "cell_type": "code",
   "execution_count": null,
   "metadata": {
    "id": "42bdxJzUW2-n"
   },
   "outputs": [],
   "source": [
    "def returnAnnotations(file_attributos, file_annotations):\n",
    "  df_attributes = pd.read_csv(file_attributos, header = None)\n",
    "  list_attributes = list()\n",
    "  list_attributes.append(df_attributes[0].values)\n",
    "  handle = open(file_annotations)\n",
    "  scores = dict()\n",
    "  confidence = dict()\n",
    "  for line in handle:\n",
    "      words = line.split()\n",
    "      i=0\n",
    "      for word in words:\n",
    "          if i == 0:\n",
    "              scores[word]=list()\n",
    "              confidence[word] = list()\n",
    "              i+=1\n",
    "          else:\n",
    "              values = word.split(',')\n",
    "              scores[words[0]].append(float(values[0]))\n",
    "              confidence[words[0]].append(float(values[1]))\n",
    "              i+=1\n",
    "  scores = pd.DataFrame(scores).T\n",
    "  scores.columns = list_attributes\n",
    "  confidence = pd.DataFrame(confidence).T\n",
    "  confidence.columns = list_attributes\n",
    "  return scores,confidence\n"
   ]
  },
  {
   "cell_type": "code",
   "execution_count": null,
   "metadata": {
    "id": "bhlZ5lBGSy96"
   },
   "outputs": [],
   "source": [
    "file_attributos = '../../data/annotations/attributes.txt'\n",
    "file_annotations = '../../data/annotations/annotations.tsv'\n",
    "file_training = '../../data/training_test_splits/holdout_split/training.txt'\n",
    "file_test = '../../data/training_test_splits/holdout_split/test.txt'\n",
    "def returnTrainingTest(file_attributos, file_annotations, file_training, file_test):\n",
    "  scores,confidence = returnAnnotations(file_attributos, file_annotations)\n",
    "  df_training = pd.read_csv(file_training, header = None)\n",
    "  df_test = pd.read_csv(file_test, header = None)\n",
    "  scores_training = scores[scores.index.isin(df_training[0].values)]\n",
    "  scores_test = scores[scores.index.isin(df_test[0].values)]\n",
    "  confidence_training = confidence[confidence.index.isin(df_training[0].values)]\n",
    "  confidence_test = confidence[confidence.index.isin(df_test[0].values)]\n",
    "  return scores_training, scores_test, confidence_training, confidence_test"
   ]
  },
  {
   "cell_type": "code",
   "execution_count": null,
   "metadata": {
    "id": "bcYeeUXQJe1p"
   },
   "outputs": [],
   "source": [
    "scores_training, scores_test, confidence_training, confidence_test = returnTrainingTest(file_attributos, file_annotations, file_training, file_test)"
   ]
  },
  {
   "cell_type": "code",
   "execution_count": null,
   "metadata": {
    "colab": {
     "base_uri": "https://localhost:8080/",
     "height": 488
    },
    "id": "c3WPQKZEJ0tH",
    "outputId": "569f939d-006c-4aeb-d8b6-fb72cf157d75"
   },
   "outputs": [],
   "source": [
    "scores_training"
   ]
  },
  {
   "cell_type": "code",
   "execution_count": null,
   "outputs": [],
   "source": [
    "scores_test"
   ],
   "metadata": {
    "collapsed": false,
    "pycharm": {
     "name": "#%%\n"
    }
   }
  },
  {
   "cell_type": "code",
   "execution_count": null,
   "metadata": {
    "colab": {
     "base_uri": "https://localhost:8080/",
     "height": 488
    },
    "id": "qAJGaEi4UMFD",
    "outputId": "0bf47385-21b0-412f-db9e-9848fefd4df8"
   },
   "outputs": [],
   "source": [
    "confidence_training"
   ]
  },
  {
   "cell_type": "code",
   "execution_count": null,
   "metadata": {
    "colab": {
     "base_uri": "https://localhost:8080/",
     "height": 488
    },
    "id": "H8b6GfJiUQeh",
    "outputId": "6e1936a8-e35c-4bce-ccdf-a80625f9c0ff"
   },
   "outputs": [],
   "source": [
    "confidence_test"
   ]
  },
  {
   "cell_type": "code",
   "execution_count": null,
   "metadata": {
    "colab": {
     "base_uri": "https://localhost:8080/",
     "height": 488
    },
    "id": "BUZIlVlopwLS",
    "outputId": "3d09e096-407e-4e93-e5e8-16b48d70f030"
   },
   "outputs": [],
   "source": [
    "confidence_training = confidence_training.apply(lambda x: [0 if y <= 5 else 1 for y in x])\n",
    "confidence_training"
   ]
  },
  {
   "cell_type": "code",
   "execution_count": null,
   "metadata": {
    "colab": {
     "base_uri": "https://localhost:8080/",
     "height": 488
    },
    "id": "WsIeOZNRrEy6",
    "outputId": "535b53d9-6150-4ab1-9a12-f2f688016026"
   },
   "outputs": [],
   "source": [
    "confidence_test = confidence_test.apply(lambda x: [0 if y <= 5 else 1 for y in x])\n",
    "confidence_test"
   ]
  },
  {
   "cell_type": "code",
   "execution_count": null,
   "metadata": {
    "colab": {
     "base_uri": "https://localhost:8080/",
     "height": 488
    },
    "id": "An7TAsXIURo2",
    "outputId": "e1497a77-4364-4792-b4b3-11b2a2f6e2a2"
   },
   "outputs": [],
   "source": [
    "#df_training = pd.DataFrame(scores_training*confidence_training, columns=scores_training.columns, index=scores_training.index)\n",
    "df_training = scores_training\n",
    "df_training.columns = df_training.columns.get_level_values(0)\n",
    "df_training"
   ]
  },
  {
   "cell_type": "code",
   "execution_count": null,
   "metadata": {
    "colab": {
     "base_uri": "https://localhost:8080/",
     "height": 488
    },
    "id": "82ZYIhZQcpvZ",
    "outputId": "b160c685-6d71-4fd4-8d7f-b9bf69b438ce"
   },
   "outputs": [],
   "source": [
    "#df_test = pd.DataFrame(scores_test*confidence_test, columns=scores_test.columns, index=scores_test.index)\n",
    "df_test = scores_test\n",
    "df_test.columns = df_test.columns.get_level_values(0)\n",
    "df_test"
   ]
  },
  {
   "cell_type": "code",
   "execution_count": null,
   "metadata": {
    "colab": {
     "base_uri": "https://localhost:8080/",
     "height": 225
    },
    "id": "EOSSRdYHfdd3",
    "outputId": "f0314f85-fbe3-47a1-e06b-79eb16599d86"
   },
   "outputs": [],
   "source": [
    "import matplotlib.pyplot as plt\n",
    "import seaborn as sns\n",
    "from IPython.display import display_markdown\n",
    "display_markdown('# Verificação visual do balanço do banco de dados no conjunto de treino.',raw=True)\n",
    "plt.figure(figsize=(70, 4))\n",
    "plt.title('Frequencia das classes no conjunto de treino')\n",
    "palette = sns.color_palette('gist_rainbow', len(df_training.columns.values))\n",
    "sns.barplot(df_training.columns.values, df_training.sum().values,palette=palette)"
   ]
  },
  {
   "cell_type": "code",
   "execution_count": null,
   "metadata": {
    "id": "wVSql_CRJ25-"
   },
   "outputs": [],
   "source": [
    "path_img = Path('../../data/ignored/images/imageLD/')\n",
    "import os\n",
    "def returnPathImages():\n",
    "    imageLD = {}\n",
    "    datasets = os.listdir(path_img)\n",
    "    for dataset in datasets:\n",
    "        imgs_name = os.listdir(path_img/Path(dataset))\n",
    "        for name in imgs_name:\n",
    "            img_file = path_img/Path(dataset)/Path(name)\n",
    "            imageLD[str(Path(dataset)/Path(name))]=img_file\n",
    "    return imageLD"
   ]
  },
  {
   "cell_type": "code",
   "execution_count": null,
   "metadata": {
    "id": "2uLF3OO9Ep8H"
   },
   "outputs": [],
   "source": [
    "images_paths = returnPathImages()"
   ]
  },
  {
   "cell_type": "code",
   "execution_count": null,
   "metadata": {
    "colab": {
     "base_uri": "https://localhost:8080/",
     "height": 424
    },
    "id": "nbor_b4zIR9t",
    "outputId": "20a0d310-37ce-40f1-ddbb-62cabf83798c"
   },
   "outputs": [],
   "source": [
    "images_paths"
   ]
  },
  {
   "cell_type": "code",
   "execution_count": null,
   "metadata": {
    "colab": {
     "base_uri": "https://localhost:8080/",
     "height": 488
    },
    "id": "EledFcSAK7v5",
    "outputId": "01f0d2d4-4bbe-4cb5-a0aa-a632b8483354"
   },
   "outputs": [],
   "source": [
    "df_training_image = df_training[df_training.index.isin(images_paths.keys())]\n",
    "df_training_image"
   ]
  },
  {
   "cell_type": "code",
   "execution_count": null,
   "metadata": {
    "colab": {
     "base_uri": "https://localhost:8080/",
     "height": 488
    },
    "id": "cDhmx17ULXYK",
    "outputId": "90fd5568-3d3b-4f2e-c49c-61fbf7d9e5ba"
   },
   "outputs": [],
   "source": [
    "df_test_image = df_test[df_test.index.isin(images_paths.keys())]\n",
    "df_test_image"
   ]
  },
  {
   "cell_type": "code",
   "execution_count": null,
   "outputs": [],
   "source": [
    "iter_img = iter(images_paths.items())"
   ],
   "metadata": {
    "collapsed": false,
    "pycharm": {
     "name": "#%%\n"
    }
   }
  },
  {
   "cell_type": "code",
   "execution_count": null,
   "outputs": [],
   "source": [
    "a_name, a_img = next(iter_img)"
   ],
   "metadata": {
    "collapsed": false,
    "pycharm": {
     "name": "#%%\n"
    }
   }
  },
  {
   "cell_type": "code",
   "execution_count": null,
   "metadata": {
    "id": "iXg2Q5rvMV__"
   },
   "outputs": [],
   "source": [
    "image.imread(a_img)"
   ]
  },
  {
   "cell_type": "code",
   "execution_count": null,
   "outputs": [],
   "source": [
    "a_name"
   ],
   "metadata": {
    "collapsed": false,
    "pycharm": {
     "name": "#%%\n"
    }
   }
  },
  {
   "cell_type": "code",
   "execution_count": null,
   "outputs": [],
   "source": [
    "df_training.loc[a_name]"
   ],
   "metadata": {
    "collapsed": false,
    "pycharm": {
     "name": "#%%\n"
    }
   }
  },
  {
   "cell_type": "code",
   "execution_count": null,
   "outputs": [],
   "source": [
    "images_paths_train = {k: v for k, v in images_paths.items() if k in df_training.index}"
   ],
   "metadata": {
    "collapsed": false,
    "pycharm": {
     "name": "#%%\n"
    }
   }
  },
  {
   "cell_type": "code",
   "execution_count": null,
   "outputs": [],
   "source": [
    "images_paths_teste = {k: v for k, v in images_paths.items() if k in df_test.index}"
   ],
   "metadata": {
    "collapsed": false,
    "pycharm": {
     "name": "#%%\n"
    }
   }
  },
  {
   "cell_type": "code",
   "execution_count": null,
   "outputs": [],
   "source": [
    "data_treino = df_training.copy()\n",
    "data_treino['path'] = df_training.index"
   ],
   "metadata": {
    "collapsed": false,
    "pycharm": {
     "name": "#%%\n"
    }
   }
  },
  {
   "cell_type": "code",
   "execution_count": null,
   "outputs": [],
   "source": [
    "data_teste = df_test.copy()\n",
    "data_teste['path'] = df_test.index"
   ],
   "metadata": {
    "collapsed": false,
    "pycharm": {
     "name": "#%%\n"
    }
   }
  },
  {
   "cell_type": "code",
   "execution_count": null,
   "outputs": [],
   "source": [
    "data_treino"
   ],
   "metadata": {
    "collapsed": false,
    "pycharm": {
     "name": "#%%\n"
    }
   }
  },
  {
   "cell_type": "code",
   "execution_count": null,
   "outputs": [],
   "source": [
    "data_treino.columns[:-1]"
   ],
   "metadata": {
    "collapsed": false,
    "pycharm": {
     "name": "#%%\n"
    }
   }
  },
  {
   "cell_type": "code",
   "execution_count": null,
   "outputs": [],
   "source": [
    "data_treino.columns[-1]"
   ],
   "metadata": {
    "collapsed": false,
    "pycharm": {
     "name": "#%%\n"
    }
   }
  },
  {
   "cell_type": "code",
   "execution_count": null,
   "outputs": [],
   "source": [
    "img_height = 224\n",
    "img_width = 224"
   ],
   "metadata": {
    "collapsed": false,
    "pycharm": {
     "name": "#%%\n"
    }
   }
  },
  {
   "cell_type": "code",
   "execution_count": null,
   "outputs": [],
   "source": [
    "from keras.preprocessing.image import ImageDataGenerator\n",
    "from keras.applications.vgg16 import VGG16, preprocess_input\n",
    "datagen = ImageDataGenerator(validation_split=0.2, preprocessing_function=preprocess_input)"
   ],
   "metadata": {
    "collapsed": false,
    "pycharm": {
     "name": "#%%\n"
    }
   }
  },
  {
   "cell_type": "code",
   "execution_count": null,
   "outputs": [],
   "source": [
    "train_generator = datagen.flow_from_dataframe(dataframe=data_treino, directory=path_img,\n",
    "                                              target_size=(img_height, img_width),\n",
    "                                              x_col='path',\n",
    "                                              y_col=data_treino.columns[:-1],\n",
    "                                              class_mode=\"raw\",\n",
    "                                              subset='training',\n",
    "                                              shuffle=True,\n",
    "                                              seed=7)\n",
    "\n",
    "validation_generator = datagen.flow_from_dataframe(dataframe=data_treino, directory=path_img,\n",
    "                                             target_size=(img_height, img_width),\n",
    "                                             x_col='path',\n",
    "                                             y_col=data_treino.columns[:-1],\n",
    "                                             class_mode=\"raw\",\n",
    "                                             subset='validation',\n",
    "                                             shuffle=True,\n",
    "                                             seed=7)\n",
    "\n",
    "test_generator = datagen.flow_from_dataframe(dataframe=data_teste, directory=path_img,\n",
    "                                             target_size=(img_height, img_width),\n",
    "                                             x_col='path',\n",
    "                                             y_col=data_treino.columns[:-1],\n",
    "                                             class_mode=\"raw\",\n",
    "                                             shuffle=False,\n",
    "                                             seed=7)"
   ],
   "metadata": {
    "collapsed": false,
    "pycharm": {
     "name": "#%%\n"
    }
   }
  },
  {
   "cell_type": "code",
   "execution_count": null,
   "outputs": [],
   "source": [
    "model_feature_extraction = VGG16(weights='imagenet', include_top=False)"
   ],
   "metadata": {
    "collapsed": false,
    "pycharm": {
     "name": "#%%\n"
    }
   }
  },
  {
   "cell_type": "code",
   "execution_count": null,
   "outputs": [],
   "source": [
    "train_features = model_feature_extraction.predict(train_generator)"
   ],
   "metadata": {
    "collapsed": false,
    "pycharm": {
     "name": "#%%\n"
    }
   }
  },
  {
   "cell_type": "code",
   "execution_count": null,
   "outputs": [],
   "source": [
    "validation_features = model_feature_extraction.predict(validation_generator)"
   ],
   "metadata": {
    "collapsed": false,
    "pycharm": {
     "name": "#%%\n"
    }
   }
  },
  {
   "cell_type": "code",
   "execution_count": null,
   "outputs": [],
   "source": [
    "test_features = model_feature_extraction.predict(test_generator)"
   ],
   "metadata": {
    "collapsed": false,
    "pycharm": {
     "name": "#%%\n"
    }
   }
  },
  {
   "cell_type": "code",
   "execution_count": null,
   "outputs": [],
   "source": [
    "import tensorflow as tf\n",
    "from tensorflow.keras import layers\n",
    "from tensorflow.keras.applications import VGG16\n",
    "from tensorflow.keras.models import Model\n",
    "img_height = 224\n",
    "img_width = 224\n",
    "pre_trained_model  = VGG16(include_top=False, input_shape=(img_height,img_width,3), weights='imagenet')\n",
    "transfer_layer = pre_trained_model.get_layer('block5_pool')\n",
    "conv_model = Model(inputs=pre_trained_model.input, outputs=transfer_layer.output)"
   ],
   "metadata": {
    "collapsed": false,
    "pycharm": {
     "name": "#%%\n"
    }
   }
  },
  {
   "cell_type": "code",
   "execution_count": null,
   "outputs": [],
   "source": [
    "from sklearn.linear_model import LogisticRegression\n",
    "from sklearn.svm import SVR\n",
    "from sklearn.multioutput import MultiOutputRegressor"
   ],
   "metadata": {
    "collapsed": false,
    "pycharm": {
     "name": "#%%\n"
    }
   }
  },
  {
   "cell_type": "code",
   "execution_count": null,
   "outputs": [],
   "source": [
    "import cv2"
   ],
   "metadata": {
    "collapsed": false,
    "pycharm": {
     "name": "#%%\n"
    }
   }
  },
  {
   "cell_type": "code",
   "execution_count": null,
   "outputs": [],
   "source": [
    "n_imgs = 100\n",
    "X_train = []\n",
    "y_train = []\n",
    "for i, (img_name, img_path) in enumerate(images_paths_train.items()):\n",
    "    if i >= n_imgs: break\n",
    "    x = image.imread(img_path)\n",
    "    x = cv2.resize(x, (400,400))\n",
    "    x = x.flatten()\n",
    "    print(len(x))\n",
    "    X_train.append(x)\n",
    "    y_train.append(df_training.loc[img_name].values)"
   ],
   "metadata": {
    "collapsed": false,
    "pycharm": {
     "name": "#%%\n"
    }
   }
  },
  {
   "cell_type": "code",
   "execution_count": null,
   "outputs": [],
   "source": [
    "n_imgs = 100\n",
    "X_teste = []\n",
    "y_teste = []\n",
    "for i, (img_name, img_path) in enumerate(images_paths_teste.items()):\n",
    "    if i >= n_imgs: break\n",
    "    x = image.imread(img_path)\n",
    "    x = cv2.resize(x, (400,400))\n",
    "    x = x.flatten()\n",
    "    print(len(x))\n",
    "    X_teste.append(x)\n",
    "    y_teste.append(df_test.loc[img_name].values)"
   ],
   "metadata": {
    "collapsed": false,
    "pycharm": {
     "name": "#%%\n"
    }
   }
  },
  {
   "cell_type": "code",
   "execution_count": null,
   "outputs": [],
   "source": [
    "clf = MultiOutputRegressor(SVR())"
   ],
   "metadata": {
    "collapsed": false,
    "pycharm": {
     "name": "#%%\n"
    }
   }
  },
  {
   "cell_type": "code",
   "execution_count": null,
   "outputs": [],
   "source": [
    "clf.fit(X_train, y_train)\n"
   ],
   "metadata": {
    "collapsed": false,
    "pycharm": {
     "name": "#%%\n"
    }
   }
  },
  {
   "cell_type": "code",
   "execution_count": null,
   "outputs": [],
   "source": [
    "X_train"
   ],
   "metadata": {
    "collapsed": false,
    "pycharm": {
     "name": "#%%\n"
    }
   }
  },
  {
   "cell_type": "code",
   "execution_count": null,
   "outputs": [],
   "source": [
    "y_train"
   ],
   "metadata": {
    "collapsed": false,
    "pycharm": {
     "name": "#%%\n"
    }
   }
  },
  {
   "cell_type": "code",
   "execution_count": null,
   "outputs": [],
   "source": [
    "y_predicted = clf.predict(X_teste)"
   ],
   "metadata": {
    "collapsed": false,
    "pycharm": {
     "name": "#%%\n"
    }
   }
  },
  {
   "cell_type": "code",
   "execution_count": null,
   "outputs": [],
   "source": [
    "y_predicted"
   ],
   "metadata": {
    "collapsed": false,
    "pycharm": {
     "name": "#%%\n"
    }
   }
  },
  {
   "cell_type": "code",
   "execution_count": null,
   "outputs": [],
   "source": [
    "np.square(y_teste - y_predicted).mean()"
   ],
   "metadata": {
    "collapsed": false,
    "pycharm": {
     "name": "#%%\n"
    }
   }
  },
  {
   "cell_type": "code",
   "execution_count": null,
   "metadata": {
    "id": "acQPrDeDNp0D"
   },
   "outputs": [],
   "source": [
    "\n",
    "import numpy as np\n",
    "def visualizarAmostras(numero_exemplos, df_path, df_training):\n",
    "  rango = np.arange(df_training.shape[0])\n",
    "  amostras = np.random.choice(a = rango, size = numero_exemplos, replace = False)\n",
    "  for amostra in amostras:\n",
    "    visualizeImageByIndex(amostra,df_path, df_training)"
   ]
  },
  {
   "cell_type": "code",
   "execution_count": null,
   "metadata": {
    "colab": {
     "base_uri": "https://localhost:8080/",
     "height": 1000
    },
    "id": "3IGIJbEQRM6N",
    "outputId": "e5c10445-30dd-41e1-c758-3fc76399f705"
   },
   "outputs": [],
   "source": [
    "display_markdown('# Verificação visual de algumas amostras do conjunto de treino imageLD',raw=True)\n",
    "visualizarAmostras(numero_exemplos=5, df_path= imageLD, df_training= df_training_imageLD)"
   ]
  },
  {
   "cell_type": "code",
   "execution_count": null,
   "metadata": {
    "colab": {
     "base_uri": "https://localhost:8080/",
     "height": 1000
    },
    "id": "tyMY6yIoZj9N",
    "outputId": "e23020f7-3574-438d-c7cf-bd89005e6f82"
   },
   "outputs": [],
   "source": [
    "display_markdown('# Verificação visual de algumas amostras do conjunto de treino imageAlignedLD',raw=True)\n",
    "visualizarAmostras(numero_exemplos=5, df_path= imageAlignedLD, df_training= df_training_imageAlignedLD)"
   ]
  },
  {
   "cell_type": "code",
   "execution_count": null,
   "metadata": {
    "id": "z4HG9VbibSYs"
   },
   "outputs": [],
   "source": [
    "def returnImageByIndex(i, df_path, df_training):\n",
    "  img = cv2.imread(df_path[df_path.index==df_training.index[i]].values[0][0])\n",
    "  return img"
   ]
  },
  {
   "cell_type": "code",
   "execution_count": null,
   "metadata": {
    "id": "z673J6YqeM4A",
    "colab": {
     "base_uri": "https://localhost:8080/",
     "height": 835
    },
    "outputId": "2287e307-21e4-4d55-c1a6-b70e08ff9d41"
   },
   "outputs": [],
   "source": [
    "Path_imageLD = imageLD[imageLD.index.isin(df_training_imageLD.index)]\n",
    "Path_imageLD = pd.concat([Path_imageLD, df_training_imageLD], axis=1)\n",
    "Path_imageAlignedLD = imageAlignedLD[imageAlignedLD.index.isin(df_training_imageAlignedLD.index)]\n",
    "Path_imageAlignedLD = pd.concat([Path_imageAlignedLD, df_training_imageAlignedLD], axis=1)\n",
    "data_treino = pd.concat([Path_imageLD, Path_imageAlignedLD], axis=0)\n",
    "data_treino"
   ]
  },
  {
   "cell_type": "code",
   "execution_count": null,
   "metadata": {
    "colab": {
     "base_uri": "https://localhost:8080/"
    },
    "id": "PHop5YQQuPUS",
    "outputId": "dd16dee3-d764-41cb-f66b-829e44627e85"
   },
   "outputs": [],
   "source": [
    "import tensorflow as tf\n",
    "from tensorflow.keras import layers\n",
    "from tensorflow.keras.applications import VGG16\n",
    "from tensorflow.keras.models import Model\n",
    "img_height = 224\n",
    "img_width = 224\n",
    "pre_trained_model  = VGG16(include_top=False, input_shape=(img_height,img_width,3), weights='imagenet')\n",
    "transfer_layer = pre_trained_model.get_layer('block5_pool')\n",
    "conv_model = Model(inputs=pre_trained_model.input, outputs=transfer_layer.output)"
   ]
  },
  {
   "cell_type": "code",
   "execution_count": null,
   "metadata": {
    "id": "4cKb-785LKPt"
   },
   "outputs": [],
   "source": [
    "from keras.models import Sequential\n",
    "from keras.layers import Dense, Flatten, Dropout, BatchNormalization\n",
    "# Start a new Keras Sequential model.\n",
    "model = Sequential()\n",
    "\n",
    "# Add the convolutional part of the VGG16 model from above.\n",
    "model.add(conv_model)\n",
    "model.add(BatchNormalization())\n",
    "# Flatten the output of the VGG16 model because it is from a\n",
    "# convolutional layer.\n",
    "model.add(Flatten())\n",
    "\n",
    "# Add a dense (aka. fully-connected) layer.\n",
    "# This is for combining features that the VGG16 model has\n",
    "# recognized in the image.\n",
    "model.add(Dense(1024, activation='relu'))\n",
    "\n",
    "# Add a dropout-layer which may prevent overfitting and\n",
    "# improve generalization ability to unseen data e.g. the test-set.\n",
    "model.add(Dropout(0.1))\n",
    "\n",
    "# Add the final layer for the actual classification.\n",
    "labels = 40\n",
    "model.add(Dense(labels, activation='sigmoid'))"
   ]
  },
  {
   "cell_type": "code",
   "execution_count": null,
   "metadata": {
    "colab": {
     "base_uri": "https://localhost:8080/"
    },
    "id": "BnmJnuvR0DPD",
    "outputId": "981f5667-be8e-4ec1-e476-96078fc2d480"
   },
   "outputs": [],
   "source": [
    "model.summary()"
   ]
  },
  {
   "cell_type": "code",
   "execution_count": null,
   "metadata": {
    "colab": {
     "base_uri": "https://localhost:8080/",
     "height": 754
    },
    "id": "7VQsEZtV1Esq",
    "outputId": "100e9af8-99d9-4677-ab33-9b4a02f4829b"
   },
   "outputs": [],
   "source": [
    "from keras.utils.vis_utils import plot_model\n",
    "plot_model(model, show_shapes = True)"
   ]
  },
  {
   "cell_type": "code",
   "execution_count": null,
   "metadata": {
    "colab": {
     "base_uri": "https://localhost:8080/"
    },
    "id": "OIQEDYCRuQl-",
    "outputId": "2c0bb4f0-8755-48b7-cded-daea0d7b45cf"
   },
   "outputs": [],
   "source": [
    "input_shape = pre_trained_model.layers[0].output_shape[0][1:3]\n",
    "input_shape"
   ]
  },
  {
   "cell_type": "code",
   "execution_count": null,
   "metadata": {
    "colab": {
     "base_uri": "https://localhost:8080/"
    },
    "id": "j7Mkh_dSuQsK",
    "outputId": "0b81030f-494e-4105-83eb-43a055a5f4a2"
   },
   "outputs": [],
   "source": [
    "from tensorflow.keras.preprocessing.image import ImageDataGenerator\n",
    "BATCH_SIZE = 20\n",
    "datagen = ImageDataGenerator(rescale=1/255., validation_split=0.2)\n",
    "train_generator = datagen.flow_from_dataframe(dataframe=data_treino, directory=path_drive,\n",
    "                                             x_col='Path',\n",
    "                                             y_col=data_treino.columns[1:],\n",
    "                                             target_size=(img_height,img_width),\n",
    "                                             batch_size=BATCH_SIZE,\n",
    "                                             class_mode=\"raw\",\n",
    "                                             subset='training',\n",
    "                                             shuffle=True,\n",
    "                                             seed=7)\n",
    "\n",
    "validation_generator = datagen.flow_from_dataframe(dataframe=data_treino, directory=path_drive,\n",
    "                                             x_col='Path',\n",
    "                                             y_col=data_treino.columns[1:],\n",
    "                                             target_size=(img_height,img_width),\n",
    "                                             batch_size=1,\n",
    "                                             class_mode=\"raw\",\n",
    "                                             subset='validation',\n",
    "                                             shuffle=True,\n",
    "                                             seed=7)"
   ]
  },
  {
   "cell_type": "code",
   "source": [
    "from keras import backend as K\n",
    "\n",
    "def coeff_determination(y_true, y_pred):\n",
    "  SS_res =  K.sum(K.square( y_true-y_pred ))\n",
    "  SS_tot = K.sum(K.square( y_true - K.mean(y_true) ) ) \n",
    "  return ( 1 - SS_res/(SS_tot + K.epsilon()) )"
   ],
   "metadata": {
    "id": "A9cYYrVwdggt"
   },
   "execution_count": null,
   "outputs": []
  },
  {
   "cell_type": "code",
   "execution_count": null,
   "metadata": {
    "id": "C0K1_v0I1Spa"
   },
   "outputs": [],
   "source": [
    "from tensorflow.keras.optimizers import Adam\n",
    "optimizer = Adam(learning_rate=0.0001, beta_1=0.9, beta_2=0.999, epsilon=1e-3)\n",
    "model.compile(optimizer = optimizer, loss='mean_absolute_error', metrics=[coeff_determination])"
   ]
  },
  {
   "cell_type": "code",
   "execution_count": null,
   "metadata": {
    "id": "uvtWM6gq19vd"
   },
   "outputs": [],
   "source": [
    "def lr_schedule(epoch):\n",
    "    lrate = 0.001\n",
    "    if epoch > 75:\n",
    "        lrate = 0.0005\n",
    "    elif epoch > 100:\n",
    "        lrate = 0.0003        \n",
    "    return lrate"
   ]
  },
  {
   "cell_type": "code",
   "execution_count": null,
   "metadata": {
    "id": "snHEg8SG1-qy"
   },
   "outputs": [],
   "source": [
    "from keras import utils, callbacks\n",
    "from tensorflow.keras.callbacks import LearningRateScheduler\n",
    "earlystopping = callbacks.EarlyStopping(monitor='val_loss', mode='min', patience= 15, restore_best_weights=True)\n",
    "epochs = 250"
   ]
  },
  {
   "cell_type": "code",
   "execution_count": null,
   "metadata": {
    "colab": {
     "base_uri": "https://localhost:8080/"
    },
    "id": "tIvtUZ_-2BZ_",
    "outputId": "6eb8fd51-a150-4b27-d2cd-3841bbbdb46f"
   },
   "outputs": [],
   "source": [
    "total_train = 6368\n",
    "total_val = 1592\n",
    "history = model.fit(train_generator, epochs=epochs, steps_per_epoch=total_train//BATCH_SIZE, validation_data=validation_generator, validation_steps=total_val, verbose=1, callbacks=[LearningRateScheduler(lr_schedule),earlystopping])"
   ]
  },
  {
   "cell_type": "code",
   "execution_count": null,
   "metadata": {
    "id": "cRv1UIoSQjTb",
    "colab": {
     "base_uri": "https://localhost:8080/",
     "height": 334
    },
    "outputId": "cea56783-255f-4930-e542-4f5bc8f57517"
   },
   "outputs": [],
   "source": [
    "import matplotlib.pyplot as plt\n",
    "plt.figure(figsize=(15,5))\n",
    "plt.subplot(1,2,1)\n",
    "plt.plot(history.history['loss'], 'b--', label = 'MAE de Treino')\n",
    "plt.plot(history.history['val_loss'], 'r-.', label = 'MAE de Validação')\n",
    "plt.xlabel('Epochs')\n",
    "plt.legend()\n",
    "\n",
    "plt.subplot(1,2,2)\n",
    "plt.plot(history.history['coeff_determination'], 'b--', label = 'R2 de Treino')\n",
    "plt.plot(history.history['val_coeff_determination'], 'r-.', label = 'R2 de Validação')\n",
    "plt.xlabel('Epochs')\n",
    "plt.legend()\n",
    "plt.show()"
   ]
  },
  {
   "cell_type": "code",
   "source": [
    "model.save_weights('weights.h5')"
   ],
   "metadata": {
    "id": "sksh-H0DRIV5"
   },
   "execution_count": null,
   "outputs": []
  },
  {
   "cell_type": "code",
   "source": [
    "test_imageLD = imageLD[imageLD.index.isin(df_test_imageLD.index)]\n",
    "test_imageLD = pd.concat([test_imageLD, df_test_imageLD], axis=1)"
   ],
   "metadata": {
    "id": "LFfnJ3ZeRI3n"
   },
   "execution_count": null,
   "outputs": []
  },
  {
   "cell_type": "code",
   "source": [
    "test_datagen = ImageDataGenerator(rescale=1/255.)"
   ],
   "metadata": {
    "id": "fSjEJckVR5Ef"
   },
   "execution_count": null,
   "outputs": []
  },
  {
   "cell_type": "code",
   "source": [
    "test_generator = test_datagen.flow_from_dataframe(dataframe=test_imageLD, directory=path_drive, x_col='Path',\n",
    "                                                  y_col=test_imageLD.columns[1:],\n",
    "                                                  target_size=(img_height,img_width),\n",
    "                                                  batch_size=1,\n",
    "                                                  class_mode=\"raw\",\n",
    "                                                  shuffle=False)"
   ],
   "metadata": {
    "colab": {
     "base_uri": "https://localhost:8080/"
    },
    "id": "t2mgie9tSL_d",
    "outputId": "a2e9f111-203d-4a02-94e0-da43e1ca7dba"
   },
   "execution_count": null,
   "outputs": []
  },
  {
   "cell_type": "code",
   "source": [
    "predictions  = model.predict(test_generator)"
   ],
   "metadata": {
    "id": "Qz4OPARrScqm"
   },
   "execution_count": null,
   "outputs": []
  },
  {
   "cell_type": "code",
   "source": [
    "predictions.shape"
   ],
   "metadata": {
    "colab": {
     "base_uri": "https://localhost:8080/"
    },
    "id": "6t4FIPR2TjR7",
    "outputId": "bf0ecc0f-1da9-4fca-e039-6ec7496ddf29"
   },
   "execution_count": null,
   "outputs": []
  },
  {
   "cell_type": "code",
   "source": [
    "y = df_test_imageLD.values"
   ],
   "metadata": {
    "id": "gTmdvT57ToGH"
   },
   "execution_count": null,
   "outputs": []
  },
  {
   "cell_type": "code",
   "source": [
    "from numpy import linalg as LA\n",
    "MSE = LA.norm((y-predictions), 2) ** 2/y.size"
   ],
   "metadata": {
    "id": "sbwNv8WsTxMG"
   },
   "execution_count": null,
   "outputs": []
  },
  {
   "cell_type": "code",
   "source": [
    "MSE #Resultado teste usando o banco imageLD e Holdout"
   ],
   "metadata": {
    "colab": {
     "base_uri": "https://localhost:8080/"
    },
    "id": "0tvVwm6yWM0p",
    "outputId": "6a336f30-0384-437f-e35d-23533bc6a738"
   },
   "execution_count": null,
   "outputs": []
  },
  {
   "cell_type": "code",
   "source": [
    "from sklearn.metrics import average_precision_score\n",
    "average_precision_score(np.where(0.8 > y, 1, 0), predictions) #Resultado teste usando o banco imageLD e Holdout"
   ],
   "metadata": {
    "colab": {
     "base_uri": "https://localhost:8080/"
    },
    "id": "1jJsM7GnZAhE",
    "outputId": "bf152c29-84e1-4d64-82d4-bb142a07751b"
   },
   "execution_count": null,
   "outputs": []
  },
  {
   "cell_type": "code",
   "source": [
    "test_imageAlignedLD = imageAlignedLD[imageAlignedLD.index.isin(df_test_imageAlignedLD.index)]\n",
    "test_imageAlignedLD = pd.concat([test_imageAlignedLD, df_test_imageAlignedLD], axis=1)"
   ],
   "metadata": {
    "id": "zJp_75eUWOHn"
   },
   "execution_count": null,
   "outputs": []
  },
  {
   "cell_type": "code",
   "source": [
    "test_generator2 = test_datagen.flow_from_dataframe(dataframe=test_imageAlignedLD, directory=path_drive, x_col='Path',\n",
    "                                                  y_col=test_imageAlignedLD.columns[1:],\n",
    "                                                  target_size=(img_height,img_width),\n",
    "                                                  batch_size=1,\n",
    "                                                  class_mode=\"raw\",\n",
    "                                                  shuffle=False)"
   ],
   "metadata": {
    "colab": {
     "base_uri": "https://localhost:8080/"
    },
    "id": "6pCg2LSdW-xH",
    "outputId": "6e72ea89-a856-40c9-ecdf-3dbc017dd06b"
   },
   "execution_count": null,
   "outputs": []
  },
  {
   "cell_type": "code",
   "source": [
    "predictions2  = model.predict(test_generator2)"
   ],
   "metadata": {
    "id": "KscyStP7XGSH"
   },
   "execution_count": null,
   "outputs": []
  },
  {
   "cell_type": "code",
   "source": [
    "y2 = df_test_imageAlignedLD.values"
   ],
   "metadata": {
    "id": "VpaRnPqDXd-n"
   },
   "execution_count": null,
   "outputs": []
  },
  {
   "cell_type": "code",
   "source": [
    "MSE2 = LA.norm((y-predictions), 2) ** 2/y.size\n",
    "MSE2 #Resultado teste usando o banco imageAlignedLD e Holdout"
   ],
   "metadata": {
    "colab": {
     "base_uri": "https://localhost:8080/"
    },
    "id": "cM7dGEm0XlWA",
    "outputId": "33b95fdc-434a-4957-e69e-caa2b6676c58"
   },
   "execution_count": null,
   "outputs": []
  },
  {
   "cell_type": "code",
   "source": [
    "average_precision_score(np.where(0.8 > y2, 1, 0), predictions2) #Resultado teste usando o banco imageAlignedLD e Holdout"
   ],
   "metadata": {
    "colab": {
     "base_uri": "https://localhost:8080/"
    },
    "id": "1OX0gug2Zjvm",
    "outputId": "1cfb8355-2dc2-4be7-c4f8-eaee22d0b1e5"
   },
   "execution_count": null,
   "outputs": []
  },
  {
   "cell_type": "code",
   "source": [
    ""
   ],
   "metadata": {
    "id": "-_qwnHqjZnS6"
   },
   "execution_count": null,
   "outputs": []
  }
 ],
 "metadata": {
  "accelerator": "GPU",
  "colab": {
   "background_execution": "on",
   "collapsed_sections": [],
   "name": "PredicaoAtributosVisuais.ipynb",
   "provenance": []
  },
  "gpuClass": "standard",
  "kernelspec": {
   "name": "python3",
   "language": "python",
   "display_name": "Python 3 (ipykernel)"
  },
  "language_info": {
   "name": "python"
  }
 },
 "nbformat": 4,
 "nbformat_minor": 0
}